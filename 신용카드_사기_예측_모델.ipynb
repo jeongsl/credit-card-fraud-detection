{
  "nbformat": 4,
  "nbformat_minor": 0,
  "metadata": {
    "colab": {
      "provenance": [],
      "collapsed_sections": [
        "l9xxwJvUwj5E",
        "ZCnuw_lQ4xZB",
        "WioqS_ZJmogy",
        "L9OY3P_f62WW"
      ],
      "authorship_tag": "ABX9TyOu2nETILLmvq287VqyysAl"
    },
    "kernelspec": {
      "name": "python3",
      "display_name": "Python 3"
    }
  },
  "cells": [
    {
      "cell_type": "markdown",
      "metadata": {
        "id": "l9xxwJvUwj5E"
      },
      "source": [
        "# EDA"
      ]
    },
    {
      "cell_type": "code",
      "metadata": {
        "id": "KSOwJB3BykVa"
      },
      "source": [
        "#데이터 불러오기\n",
        "import pandas as pd\n",
        "data=pd.read_csv('/content/creditcard.csv')"
      ],
      "execution_count": null,
      "outputs": []
    },
    {
      "cell_type": "code",
      "metadata": {
        "colab": {
          "base_uri": "https://localhost:8080/"
        },
        "id": "iIGDskSezodo",
        "outputId": "b81ef746-33c0-406d-ad6f-8fa2703dfe0b"
      },
      "source": [
        "data.shape"
      ],
      "execution_count": null,
      "outputs": [
        {
          "output_type": "execute_result",
          "data": {
            "text/plain": [
              "(284807, 31)"
            ]
          },
          "metadata": {
            "tags": []
          },
          "execution_count": 2
        }
      ]
    },
    {
      "cell_type": "code",
      "metadata": {
        "colab": {
          "base_uri": "https://localhost:8080/",
          "height": 223
        },
        "id": "Rf1mTS2oz1kq",
        "outputId": "26d4af55-5ec8-4170-f447-15396a8dbd3d"
      },
      "source": [
        "data.head()"
      ],
      "execution_count": null,
      "outputs": [
        {
          "output_type": "execute_result",
          "data": {
            "text/html": [
              "<div>\n",
              "<style scoped>\n",
              "    .dataframe tbody tr th:only-of-type {\n",
              "        vertical-align: middle;\n",
              "    }\n",
              "\n",
              "    .dataframe tbody tr th {\n",
              "        vertical-align: top;\n",
              "    }\n",
              "\n",
              "    .dataframe thead th {\n",
              "        text-align: right;\n",
              "    }\n",
              "</style>\n",
              "<table border=\"1\" class=\"dataframe\">\n",
              "  <thead>\n",
              "    <tr style=\"text-align: right;\">\n",
              "      <th></th>\n",
              "      <th>Time</th>\n",
              "      <th>V1</th>\n",
              "      <th>V2</th>\n",
              "      <th>V3</th>\n",
              "      <th>V4</th>\n",
              "      <th>V5</th>\n",
              "      <th>V6</th>\n",
              "      <th>V7</th>\n",
              "      <th>V8</th>\n",
              "      <th>V9</th>\n",
              "      <th>V10</th>\n",
              "      <th>V11</th>\n",
              "      <th>V12</th>\n",
              "      <th>V13</th>\n",
              "      <th>V14</th>\n",
              "      <th>V15</th>\n",
              "      <th>V16</th>\n",
              "      <th>V17</th>\n",
              "      <th>V18</th>\n",
              "      <th>V19</th>\n",
              "      <th>V20</th>\n",
              "      <th>V21</th>\n",
              "      <th>V22</th>\n",
              "      <th>V23</th>\n",
              "      <th>V24</th>\n",
              "      <th>V25</th>\n",
              "      <th>V26</th>\n",
              "      <th>V27</th>\n",
              "      <th>V28</th>\n",
              "      <th>Amount</th>\n",
              "      <th>Class</th>\n",
              "    </tr>\n",
              "  </thead>\n",
              "  <tbody>\n",
              "    <tr>\n",
              "      <th>0</th>\n",
              "      <td>0.0</td>\n",
              "      <td>-1.359807</td>\n",
              "      <td>-0.072781</td>\n",
              "      <td>2.536347</td>\n",
              "      <td>1.378155</td>\n",
              "      <td>-0.338321</td>\n",
              "      <td>0.462388</td>\n",
              "      <td>0.239599</td>\n",
              "      <td>0.098698</td>\n",
              "      <td>0.363787</td>\n",
              "      <td>0.090794</td>\n",
              "      <td>-0.551600</td>\n",
              "      <td>-0.617801</td>\n",
              "      <td>-0.991390</td>\n",
              "      <td>-0.311169</td>\n",
              "      <td>1.468177</td>\n",
              "      <td>-0.470401</td>\n",
              "      <td>0.207971</td>\n",
              "      <td>0.025791</td>\n",
              "      <td>0.403993</td>\n",
              "      <td>0.251412</td>\n",
              "      <td>-0.018307</td>\n",
              "      <td>0.277838</td>\n",
              "      <td>-0.110474</td>\n",
              "      <td>0.066928</td>\n",
              "      <td>0.128539</td>\n",
              "      <td>-0.189115</td>\n",
              "      <td>0.133558</td>\n",
              "      <td>-0.021053</td>\n",
              "      <td>149.62</td>\n",
              "      <td>0</td>\n",
              "    </tr>\n",
              "    <tr>\n",
              "      <th>1</th>\n",
              "      <td>0.0</td>\n",
              "      <td>1.191857</td>\n",
              "      <td>0.266151</td>\n",
              "      <td>0.166480</td>\n",
              "      <td>0.448154</td>\n",
              "      <td>0.060018</td>\n",
              "      <td>-0.082361</td>\n",
              "      <td>-0.078803</td>\n",
              "      <td>0.085102</td>\n",
              "      <td>-0.255425</td>\n",
              "      <td>-0.166974</td>\n",
              "      <td>1.612727</td>\n",
              "      <td>1.065235</td>\n",
              "      <td>0.489095</td>\n",
              "      <td>-0.143772</td>\n",
              "      <td>0.635558</td>\n",
              "      <td>0.463917</td>\n",
              "      <td>-0.114805</td>\n",
              "      <td>-0.183361</td>\n",
              "      <td>-0.145783</td>\n",
              "      <td>-0.069083</td>\n",
              "      <td>-0.225775</td>\n",
              "      <td>-0.638672</td>\n",
              "      <td>0.101288</td>\n",
              "      <td>-0.339846</td>\n",
              "      <td>0.167170</td>\n",
              "      <td>0.125895</td>\n",
              "      <td>-0.008983</td>\n",
              "      <td>0.014724</td>\n",
              "      <td>2.69</td>\n",
              "      <td>0</td>\n",
              "    </tr>\n",
              "    <tr>\n",
              "      <th>2</th>\n",
              "      <td>1.0</td>\n",
              "      <td>-1.358354</td>\n",
              "      <td>-1.340163</td>\n",
              "      <td>1.773209</td>\n",
              "      <td>0.379780</td>\n",
              "      <td>-0.503198</td>\n",
              "      <td>1.800499</td>\n",
              "      <td>0.791461</td>\n",
              "      <td>0.247676</td>\n",
              "      <td>-1.514654</td>\n",
              "      <td>0.207643</td>\n",
              "      <td>0.624501</td>\n",
              "      <td>0.066084</td>\n",
              "      <td>0.717293</td>\n",
              "      <td>-0.165946</td>\n",
              "      <td>2.345865</td>\n",
              "      <td>-2.890083</td>\n",
              "      <td>1.109969</td>\n",
              "      <td>-0.121359</td>\n",
              "      <td>-2.261857</td>\n",
              "      <td>0.524980</td>\n",
              "      <td>0.247998</td>\n",
              "      <td>0.771679</td>\n",
              "      <td>0.909412</td>\n",
              "      <td>-0.689281</td>\n",
              "      <td>-0.327642</td>\n",
              "      <td>-0.139097</td>\n",
              "      <td>-0.055353</td>\n",
              "      <td>-0.059752</td>\n",
              "      <td>378.66</td>\n",
              "      <td>0</td>\n",
              "    </tr>\n",
              "    <tr>\n",
              "      <th>3</th>\n",
              "      <td>1.0</td>\n",
              "      <td>-0.966272</td>\n",
              "      <td>-0.185226</td>\n",
              "      <td>1.792993</td>\n",
              "      <td>-0.863291</td>\n",
              "      <td>-0.010309</td>\n",
              "      <td>1.247203</td>\n",
              "      <td>0.237609</td>\n",
              "      <td>0.377436</td>\n",
              "      <td>-1.387024</td>\n",
              "      <td>-0.054952</td>\n",
              "      <td>-0.226487</td>\n",
              "      <td>0.178228</td>\n",
              "      <td>0.507757</td>\n",
              "      <td>-0.287924</td>\n",
              "      <td>-0.631418</td>\n",
              "      <td>-1.059647</td>\n",
              "      <td>-0.684093</td>\n",
              "      <td>1.965775</td>\n",
              "      <td>-1.232622</td>\n",
              "      <td>-0.208038</td>\n",
              "      <td>-0.108300</td>\n",
              "      <td>0.005274</td>\n",
              "      <td>-0.190321</td>\n",
              "      <td>-1.175575</td>\n",
              "      <td>0.647376</td>\n",
              "      <td>-0.221929</td>\n",
              "      <td>0.062723</td>\n",
              "      <td>0.061458</td>\n",
              "      <td>123.50</td>\n",
              "      <td>0</td>\n",
              "    </tr>\n",
              "    <tr>\n",
              "      <th>4</th>\n",
              "      <td>2.0</td>\n",
              "      <td>-1.158233</td>\n",
              "      <td>0.877737</td>\n",
              "      <td>1.548718</td>\n",
              "      <td>0.403034</td>\n",
              "      <td>-0.407193</td>\n",
              "      <td>0.095921</td>\n",
              "      <td>0.592941</td>\n",
              "      <td>-0.270533</td>\n",
              "      <td>0.817739</td>\n",
              "      <td>0.753074</td>\n",
              "      <td>-0.822843</td>\n",
              "      <td>0.538196</td>\n",
              "      <td>1.345852</td>\n",
              "      <td>-1.119670</td>\n",
              "      <td>0.175121</td>\n",
              "      <td>-0.451449</td>\n",
              "      <td>-0.237033</td>\n",
              "      <td>-0.038195</td>\n",
              "      <td>0.803487</td>\n",
              "      <td>0.408542</td>\n",
              "      <td>-0.009431</td>\n",
              "      <td>0.798278</td>\n",
              "      <td>-0.137458</td>\n",
              "      <td>0.141267</td>\n",
              "      <td>-0.206010</td>\n",
              "      <td>0.502292</td>\n",
              "      <td>0.219422</td>\n",
              "      <td>0.215153</td>\n",
              "      <td>69.99</td>\n",
              "      <td>0</td>\n",
              "    </tr>\n",
              "  </tbody>\n",
              "</table>\n",
              "</div>"
            ],
            "text/plain": [
              "   Time        V1        V2        V3  ...       V27       V28  Amount  Class\n",
              "0   0.0 -1.359807 -0.072781  2.536347  ...  0.133558 -0.021053  149.62      0\n",
              "1   0.0  1.191857  0.266151  0.166480  ... -0.008983  0.014724    2.69      0\n",
              "2   1.0 -1.358354 -1.340163  1.773209  ... -0.055353 -0.059752  378.66      0\n",
              "3   1.0 -0.966272 -0.185226  1.792993  ...  0.062723  0.061458  123.50      0\n",
              "4   2.0 -1.158233  0.877737  1.548718  ...  0.219422  0.215153   69.99      0\n",
              "\n",
              "[5 rows x 31 columns]"
            ]
          },
          "metadata": {
            "tags": []
          },
          "execution_count": 3
        }
      ]
    },
    {
      "cell_type": "code",
      "metadata": {
        "colab": {
          "base_uri": "https://localhost:8080/"
        },
        "id": "8ihe7PrrWqKE",
        "outputId": "79ae1953-83b5-48bd-e510-5f951debbf4b"
      },
      "source": [
        "data.isnull().sum()"
      ],
      "execution_count": null,
      "outputs": [
        {
          "output_type": "execute_result",
          "data": {
            "text/plain": [
              "Time      0\n",
              "V1        0\n",
              "V2        0\n",
              "V3        0\n",
              "V4        0\n",
              "V5        0\n",
              "V6        0\n",
              "V7        0\n",
              "V8        0\n",
              "V9        0\n",
              "V10       0\n",
              "V11       0\n",
              "V12       0\n",
              "V13       0\n",
              "V14       0\n",
              "V15       0\n",
              "V16       0\n",
              "V17       0\n",
              "V18       0\n",
              "V19       0\n",
              "V20       0\n",
              "V21       0\n",
              "V22       0\n",
              "V23       0\n",
              "V24       0\n",
              "V25       0\n",
              "V26       0\n",
              "V27       0\n",
              "V28       0\n",
              "Amount    0\n",
              "Class     0\n",
              "dtype: int64"
            ]
          },
          "metadata": {
            "tags": []
          },
          "execution_count": 4
        }
      ]
    },
    {
      "cell_type": "code",
      "metadata": {
        "colab": {
          "base_uri": "https://localhost:8080/",
          "height": 110
        },
        "id": "wRVdT2lY2snR",
        "outputId": "7867b0a0-027a-40ea-f8c9-8d609706c307"
      },
      "source": [
        "#사기 거래수 확인\n",
        "tmp=data['Class'].value_counts().to_frame().reset_index()                           #통계테이블을 pandas 데이터프레임으로 변환하여 조작하려는 경우(빈도수)\n",
        "tmp['Percent(%)']=tmp[\"Class\"].apply(lambda x : round(100*float(x) / len(data),2))   #람다: 익명함수, round: 반올림\n",
        "tmp=tmp.rename(columns={\"index\":\"Target\", \"Class\":\"Count\"})\n",
        "\n",
        "tmp"
      ],
      "execution_count": null,
      "outputs": [
        {
          "output_type": "execute_result",
          "data": {
            "text/html": [
              "<div>\n",
              "<style scoped>\n",
              "    .dataframe tbody tr th:only-of-type {\n",
              "        vertical-align: middle;\n",
              "    }\n",
              "\n",
              "    .dataframe tbody tr th {\n",
              "        vertical-align: top;\n",
              "    }\n",
              "\n",
              "    .dataframe thead th {\n",
              "        text-align: right;\n",
              "    }\n",
              "</style>\n",
              "<table border=\"1\" class=\"dataframe\">\n",
              "  <thead>\n",
              "    <tr style=\"text-align: right;\">\n",
              "      <th></th>\n",
              "      <th>Target</th>\n",
              "      <th>Count</th>\n",
              "      <th>Percent(%)</th>\n",
              "    </tr>\n",
              "  </thead>\n",
              "  <tbody>\n",
              "    <tr>\n",
              "      <th>0</th>\n",
              "      <td>0</td>\n",
              "      <td>284315</td>\n",
              "      <td>99.83</td>\n",
              "    </tr>\n",
              "    <tr>\n",
              "      <th>1</th>\n",
              "      <td>1</td>\n",
              "      <td>492</td>\n",
              "      <td>0.17</td>\n",
              "    </tr>\n",
              "  </tbody>\n",
              "</table>\n",
              "</div>"
            ],
            "text/plain": [
              "   Target   Count  Percent(%)\n",
              "0       0  284315       99.83\n",
              "1       1     492        0.17"
            ]
          },
          "metadata": {
            "tags": []
          },
          "execution_count": 5
        }
      ]
    },
    {
      "cell_type": "markdown",
      "metadata": {
        "id": "EGmf9Fjd0K5z"
      },
      "source": [
        "# Data Preprocessing"
      ]
    },
    {
      "cell_type": "code",
      "metadata": {
        "colab": {
          "base_uri": "https://localhost:8080/"
        },
        "id": "uSfGBWWa0Qwt",
        "outputId": "b5742522-5eb6-4d89-92b6-243830048fa0"
      },
      "source": [
        "#Feature(x)과 Label(y) 분리\n",
        "x_data=data.loc[:,'V1':'V28'] #V1~V28\n",
        "y_data=data.loc[:,'Class'] #사기여부\n",
        "\n",
        "print(x_data.shape)\n",
        "print(y_data.shape)"
      ],
      "execution_count": null,
      "outputs": [
        {
          "output_type": "stream",
          "text": [
            "(284807, 28)\n",
            "(284807,)\n"
          ],
          "name": "stdout"
        }
      ]
    },
    {
      "cell_type": "code",
      "metadata": {
        "id": "JvPDRa3Q3t_d",
        "colab": {
          "base_uri": "https://localhost:8080/"
        },
        "outputId": "ce459014-fb46-4abf-a94a-7a81594d2406"
      },
      "source": [
        "y_data"
      ],
      "execution_count": null,
      "outputs": [
        {
          "output_type": "execute_result",
          "data": {
            "text/plain": [
              "0         0\n",
              "1         0\n",
              "2         0\n",
              "3         0\n",
              "4         0\n",
              "         ..\n",
              "284802    0\n",
              "284803    0\n",
              "284804    0\n",
              "284805    0\n",
              "284806    0\n",
              "Name: Class, Length: 284807, dtype: int64"
            ]
          },
          "metadata": {
            "tags": []
          },
          "execution_count": 12
        }
      ]
    },
    {
      "cell_type": "code",
      "metadata": {
        "colab": {
          "base_uri": "https://localhost:8080/"
        },
        "id": "Xw-1IcSa0wlX",
        "outputId": "ea1ffff5-6e73-42b1-be2d-631719116d0e"
      },
      "source": [
        "#랜덤으로 Train, Test 데이터 나누기(7:3)\n",
        "import numpy as np\n",
        "\n",
        "shuffle_index=np.random.permutation(len(data)) #데이터를 랜덤으로 나눔\n",
        "x_data=x_data.values[shuffle_index]\n",
        "y_data=y_data.values[shuffle_index]\n",
        "\n",
        "n_train=int(len(x_data)*0.7) #비율 7:3\n",
        "\n",
        "x_train=x_data[:n_train] #데이터 분리\n",
        "y_train=y_data[:n_train]\n",
        "x_test=x_data[n_train:]\n",
        "y_test=y_data[n_train:]\n",
        "\n",
        "print(x_train.shape)\n",
        "print(y_train.shape)\n",
        "print(x_test.shape)\n",
        "print(y_test.shape)"
      ],
      "execution_count": null,
      "outputs": [
        {
          "output_type": "stream",
          "text": [
            "(199364, 28)\n",
            "(199364,)\n",
            "(85443, 28)\n",
            "(85443,)\n"
          ],
          "name": "stdout"
        }
      ]
    },
    {
      "cell_type": "code",
      "metadata": {
        "colab": {
          "base_uri": "https://localhost:8080/"
        },
        "id": "jd1PutB_16l_",
        "outputId": "9e2559ad-f31a-4b57-aa08-c5a4d4fd5d16"
      },
      "source": [
        "#Train, Test 데이터 분류(사기 여부에 따라)\n",
        "pd.DataFrame([[sum(y_train==0), sum(y_test==0)],\n",
        "              [sum(y_train==1), sum(y_test==1)]],\n",
        "            columns=['train','test'], index=['0 (non-fraud)','1 (fraud)'])"
      ],
      "execution_count": null,
      "outputs": [
        {
          "output_type": "execute_result",
          "data": {
            "text/html": [
              "<div>\n",
              "<style scoped>\n",
              "    .dataframe tbody tr th:only-of-type {\n",
              "        vertical-align: middle;\n",
              "    }\n",
              "\n",
              "    .dataframe tbody tr th {\n",
              "        vertical-align: top;\n",
              "    }\n",
              "\n",
              "    .dataframe thead th {\n",
              "        text-align: right;\n",
              "    }\n",
              "</style>\n",
              "<table border=\"1\" class=\"dataframe\">\n",
              "  <thead>\n",
              "    <tr style=\"text-align: right;\">\n",
              "      <th></th>\n",
              "      <th>train</th>\n",
              "      <th>test</th>\n",
              "    </tr>\n",
              "  </thead>\n",
              "  <tbody>\n",
              "    <tr>\n",
              "      <th>0 (non-fraud)</th>\n",
              "      <td>199027</td>\n",
              "      <td>85288</td>\n",
              "    </tr>\n",
              "    <tr>\n",
              "      <th>1 (fraud)</th>\n",
              "      <td>337</td>\n",
              "      <td>155</td>\n",
              "    </tr>\n",
              "  </tbody>\n",
              "</table>\n",
              "</div>"
            ],
            "text/plain": [
              "                train   test\n",
              "0 (non-fraud)  199027  85288\n",
              "1 (fraud)         337    155"
            ]
          },
          "metadata": {
            "tags": []
          },
          "execution_count": 14
        }
      ]
    },
    {
      "cell_type": "markdown",
      "source": [
        "# Modeling"
      ],
      "metadata": {
        "id": "IEONwQ73iyG4"
      }
    },
    {
      "cell_type": "markdown",
      "metadata": {
        "id": "ZCnuw_lQ4xZB"
      },
      "source": [
        "## 1. RamdomForest"
      ]
    },
    {
      "cell_type": "code",
      "metadata": {
        "id": "He5hjvk44tpt"
      },
      "source": [
        "from sklearn.ensemble import RandomForestClassifier\n",
        "\n",
        "model_rf = RandomForestClassifier(n_estimators=15) #결정트리 개수:15\n",
        "\n",
        "model_rf.fit(x_train, y_train) #train 모델 학습\n",
        "\n",
        "y_pred = model_rf.predict(x_test) #예측\n",
        "y_real = y_test"
      ],
      "execution_count": null,
      "outputs": []
    },
    {
      "cell_type": "code",
      "metadata": {
        "colab": {
          "base_uri": "https://localhost:8080/"
        },
        "id": "T-vvFZhX5USw",
        "outputId": "b5e9d176-e0e0-4585-c96f-5652c836cfbd"
      },
      "source": [
        "accuracy=round(sum(y_pred==y_real) / len(y_pred),4) #정분류율\n",
        "precision=round(sum([p==1 & r==1 for p, r in zip(y_pred, y_real)]) / sum(y_pred==1),4) #정밀도 #zip: 자료형을 묶어주는 함수\n",
        "recall=round(sum([p==1 & r==1 for p, r in zip(y_pred, y_real)]) / sum(y_real==1),4) #재현율\n",
        "f1=round(2 / ((1/precision) + (1/recall)), 4) #F점수\n",
        "\n",
        "print('Accuracy : ',accuracy)\n",
        "print('Precision : ',precision)\n",
        "print('Recall : ',recall)\n",
        "print('f1=score : ',f1)\n",
        "#정밀도 95%, 재현율(민감도) 79%, F점수 86%"
      ],
      "execution_count": null,
      "outputs": [
        {
          "output_type": "stream",
          "text": [
            "Accuracy :  0.9996\n",
            "Precision :  0.9493\n",
            "Recall :  0.8452\n",
            "f1=score :  0.8942\n"
          ],
          "name": "stdout"
        }
      ]
    },
    {
      "cell_type": "code",
      "metadata": {
        "colab": {
          "base_uri": "https://localhost:8080/"
        },
        "id": "BxCpNmLROudz",
        "outputId": "a56749dd-acf9-4aba-e3d8-62d87846e143"
      },
      "source": [
        "from sklearn.metrics import classification_report\n",
        "\n",
        "print(classification_report(y_real, y_pred))\n",
        "\n",
        "#정밀도 95%, 재현율(민감도) 79%, F점수 86% "
      ],
      "execution_count": null,
      "outputs": [
        {
          "output_type": "stream",
          "text": [
            "              precision    recall  f1-score   support\n",
            "\n",
            "           0       1.00      1.00      1.00     85288\n",
            "           1       0.95      0.85      0.89       155\n",
            "\n",
            "    accuracy                           1.00     85443\n",
            "   macro avg       0.97      0.92      0.95     85443\n",
            "weighted avg       1.00      1.00      1.00     85443\n",
            "\n"
          ],
          "name": "stdout"
        }
      ]
    },
    {
      "cell_type": "markdown",
      "metadata": {
        "id": "WioqS_ZJmogy"
      },
      "source": [
        "### 랜덤포레스트 시각화"
      ]
    },
    {
      "cell_type": "code",
      "metadata": {
        "id": "OYBB1ueFVD1L"
      },
      "source": [
        "import numpy as np\n",
        "from sklearn.ensemble import RandomForestClassifier\n",
        "import matplotlib.pyplot as plt"
      ],
      "execution_count": null,
      "outputs": []
    },
    {
      "cell_type": "code",
      "metadata": {
        "id": "NS_KDaGfU7ym"
      },
      "source": [
        "n_feature = 28\n",
        "\n",
        "score_n_tr_est = []\n",
        "score_n_te_est = []\n",
        "score_m_tr_mft = []\n",
        "score_m_te_mft = []\n",
        "\n",
        "for i in np.arange(1, n_feature+1): # n_estimators와 mat_features는 모두 0보다 큰 정수여야 하므로 1부터 시작합니다.\n",
        "    params_n = {'n_estimators':i, 'max_features':'auto', 'n_jobs':-1} # **kwargs parameter\n",
        "    params_m = {'n_estimators':10, 'max_features':i, 'n_jobs':-1}\n",
        "\n",
        "    forest_n = RandomForestClassifier(**params_n).fit(x_train, y_train)\n",
        "    forest_m = RandomForestClassifier(**params_m).fit(x_train, y_train)\n",
        "\n",
        "    score_n_tr = forest_n.score(x_train, y_train)\n",
        "    score_n_te = forest_n.score(x_test, y_test)\n",
        "    score_m_tr = forest_m.score(x_train, y_train)\n",
        "    score_m_te = forest_m.score(x_test, y_test)\n",
        "\n",
        "    score_n_tr_est.append(score_n_tr)\n",
        "    score_n_te_est.append(score_n_te)\n",
        "    score_m_tr_mft.append(score_m_tr)\n",
        "    score_m_te_mft.append(score_m_te)\n",
        "\n",
        "index = np.arange(len(score_n_tr_est))"
      ],
      "execution_count": null,
      "outputs": []
    },
    {
      "cell_type": "code",
      "metadata": {
        "colab": {
          "base_uri": "https://localhost:8080/",
          "height": 301
        },
        "id": "Q8MoM_ifWKRo",
        "outputId": "f54d8c44-5157-4abf-9c45-e79b649ab361"
      },
      "source": [
        "plt.plot(index, score_n_tr_est, label='n_estimators train score', color='lightblue', ls='--') # ls: linestyle\n",
        "\n",
        "plt.plot(index, score_m_tr_mft, label='max_features train score', color='orange', ls='--')\n",
        "\n",
        "plt.plot(index, score_n_te_est, label='n_estimators test score', color='lightblue')\n",
        "\n",
        "plt.plot(index, score_m_te_mft, label='max_features test score', color='orange')\n",
        "\n",
        "plt.legend(loc='upper center', bbox_to_anchor=(0.5, 1.1),\n",
        "\n",
        "           ncol=2, fancybox=True, shadow=False) # fancybox: 박스모양, shadow: 그림자\n",
        "\n",
        "plt.xlabel('number of parameter', size=15)\n",
        "\n",
        "plt.ylabel('score', size=15)\n",
        "\n",
        "plt.show()"
      ],
      "execution_count": null,
      "outputs": [
        {
          "output_type": "display_data",
          "data": {
            "image/png": "[encoded data removed]",
            "text/plain": [
              "<Figure size 432x288 with 1 Axes>"
            ]
          },
          "metadata": {
            "tags": [],
            "needs_background": "light"
          }
        }
      ]
    },
    {
      "cell_type": "markdown",
      "metadata": {
        "id": "L9OY3P_f62WW"
      },
      "source": [
        "## 2. Logistic regression with Neural Network"
      ]
    },
    {
      "cell_type": "code",
      "metadata": {
        "colab": {
          "base_uri": "https://localhost:8080/"
        },
        "id": "vW3NLoP769yz",
        "outputId": "ba0ee303-8ddc-4e4c-b25f-4169c94f27b0"
      },
      "source": [
        "import tensorflow as tf\n",
        "import tensorflow.keras.layers as layers\n",
        "import tensorflow.keras.models as models\n",
        "\n",
        "n_inputs = x_train.shape[1] #입력 개수\n",
        "n_output = 2 #출력 개수\n",
        "\n",
        "#모델 생성\n",
        "model_nn = tf.keras.Sequential([\n",
        "    layers.Dense(64, input_shape=(n_inputs, ), activation='tanh'),\n",
        "    layers.Dense(32, activation='relu'),\n",
        "    layers.Dense(16, activation='relu'),\n",
        "    layers.Dense(n_output, activation='softmax'),\n",
        "])\n",
        "\n",
        "#학습에 대한 설정\n",
        "model_nn.compile(loss='sparse_categorical_crossentropy', optimizer='adam', metrics=['accuracy'])\n",
        "model_nn.summary()\n",
        "\n",
        "#모델 적합\n",
        "model_nn.fit(x_train, y_train, batch_size=100, epochs=10, validation_data=(x_test, y_test))\n",
        "\n",
        "#예측\n",
        "y_pred=model_nn.predict(x_test)\n",
        "y_real=y_test"
      ],
      "execution_count": null,
      "outputs": [
        {
          "output_type": "stream",
          "text": [
            "Epoch 1/10\n",
            "1994/1994 [==============================] - 4s 2ms/step - loss: 0.0714 - accuracy: 0.9688 - val_loss: 0.0031 - val_accuracy: 0.9994\n",
            "Epoch 2/10\n",
            "1994/1994 [==============================] - 3s 2ms/step - loss: 0.0032 - accuracy: 0.9993 - val_loss: 0.0027 - val_accuracy: 0.9994\n",
            "Epoch 3/10\n",
            "1994/1994 [==============================] - 3s 2ms/step - loss: 0.0026 - accuracy: 0.9994 - val_loss: 0.0027 - val_accuracy: 0.9994\n",
            "Epoch 4/10\n",
            "1994/1994 [==============================] - 3s 2ms/step - loss: 0.0022 - accuracy: 0.9996 - val_loss: 0.0026 - val_accuracy: 0.9993\n",
            "Epoch 5/10\n",
            "1994/1994 [==============================] - 3s 2ms/step - loss: 0.0024 - accuracy: 0.9994 - val_loss: 0.0026 - val_accuracy: 0.9994\n",
            "Epoch 6/10\n",
            "1994/1994 [==============================] - 3s 2ms/step - loss: 0.0024 - accuracy: 0.9994 - val_loss: 0.0023 - val_accuracy: 0.9994\n",
            "Epoch 7/10\n",
            "1994/1994 [==============================] - 3s 2ms/step - loss: 0.0020 - accuracy: 0.9995 - val_loss: 0.0026 - val_accuracy: 0.9994\n",
            "Epoch 8/10\n",
            "1994/1994 [==============================] - 3s 2ms/step - loss: 0.0025 - accuracy: 0.9994 - val_loss: 0.0025 - val_accuracy: 0.9994\n",
            "Epoch 9/10\n",
            "1994/1994 [==============================] - 3s 2ms/step - loss: 0.0019 - accuracy: 0.9995 - val_loss: 0.0032 - val_accuracy: 0.9992\n",
            "Epoch 10/10\n",
            "1994/1994 [==============================] - 3s 2ms/step - loss: 0.0014 - accuracy: 0.9996 - val_loss: 0.0028 - val_accuracy: 0.9994\n"
          ],
          "name": "stdout"
        }
      ]
    },
    {
      "cell_type": "code",
      "metadata": {
        "colab": {
          "base_uri": "https://localhost:8080/"
        },
        "id": "0qjVnYId9aow",
        "outputId": "8a7925e6-97bd-4a44-da06-eec45a8683bc"
      },
      "source": [
        "from sklearn.metrics import classification_report\n",
        "\n",
        "y_pred = y_pred.argmax(axis=1)\n",
        "\n",
        "accuracy=round(sum(y_pred == y_real) / len(y_pred), 4)\n",
        "\n",
        "print('Accuracy : ',accuracy)\n",
        "print(classification_report(y_real, y_pred))\n",
        "\n",
        "#정밀도 88%, 재현율(민감도) 77%, F점수 82%"
      ],
      "execution_count": null,
      "outputs": [
        {
          "output_type": "stream",
          "text": [
            "Accuracy :  0.9994\n",
            "              precision    recall  f1-score   support\n",
            "\n",
            "           0       1.00      1.00      1.00     85301\n",
            "           1       0.82      0.81      0.82       142\n",
            "\n",
            "    accuracy                           1.00     85443\n",
            "   macro avg       0.91      0.90      0.91     85443\n",
            "weighted avg       1.00      1.00      1.00     85443\n",
            "\n"
          ],
          "name": "stdout"
        }
      ]
    },
    {
      "cell_type": "markdown",
      "metadata": {
        "id": "n9PhP7vhrv2E"
      },
      "source": [
        "## 3. 오토인코더\n",
        "\n",
        "입력 데이터와 출력 데이터를 같게 함. \n",
        "\n",
        "원본 데이터를 ecndoer를 통해 압축한 뒤 다시 decoder를 통해 복구.\n",
        "\n",
        "비지도 학습 문제 해결(데이터를 압축함으로써 중요한 특징 탐색 가능)"
      ]
    },
    {
      "cell_type": "code",
      "metadata": {
        "colab": {
          "base_uri": "https://localhost:8080/"
        },
        "id": "plABWstcdk78",
        "outputId": "3fccea60-a9a5-4834-e903-d22495edf7fa"
      },
      "source": [
        "import pandas as pd\n",
        "import numpy as np\n",
        "import tensorflow as tf\n",
        "import matplotlib.pyplot as plt\n",
        "import sqlite3\n",
        "\n",
        "data=pd.read_csv('/content/creditcard.csv')\n",
        "\n",
        "# 데이터 정규화 -> 모든 값을 0과 1 사이 값으로\n",
        "data_norm = (data - data.min()) / (data.max() - data.min())\n",
        "\n",
        "#정상, 사기 거래 분류\n",
        "fraud=data_norm[data_norm.Class==1] \n",
        "normal=data_norm[data_norm.Class==0]\n",
        "\n",
        "#train, test 데이터 분할 (8:2)\n",
        "# 학습은 normal data 80% 로만!\n",
        "train=normal.sample(frac=0.8)\n",
        "trainX=train.iloc[:,1:29].values\n",
        "\n",
        "# 테스트는 20% 의 normal data 와 fraud data\n",
        "test=normal.loc[~normal.index.isin(train.index)]\n",
        "test=test.sample(frac=1)\n",
        "testX=test.iloc[:,1:29].values\n",
        "\n",
        "fraudX=fraud.iloc[:,1:29].values\n",
        "\n",
        "normalX=normal.iloc[:,1:29].values\n",
        "\n",
        "\n",
        "print('Total train :', trainX.shape[0])\n",
        "print()"
      ],
      "execution_count": null,
      "outputs": [
        {
          "output_type": "stream",
          "text": [
            "Total train : 227452\n",
            "\n"
          ],
          "name": "stdout"
        }
      ]
    },
    {
      "cell_type": "code",
      "metadata": {
        "id": "BHVjccMa-N9v"
      },
      "source": [
        "trainY=train.iloc[:,30]\n",
        "testY=test.iloc[:,30]\n",
        "fraudY=fraud.iloc[:,30]\n",
        "normalY=fraud.iloc[:,30]"
      ],
      "execution_count": null,
      "outputs": []
    },
    {
      "cell_type": "code",
      "metadata": {
        "colab": {
          "base_uri": "https://localhost:8080/"
        },
        "id": "fHM-k0h3hBKk",
        "outputId": "40a79605-bdcc-41d7-8fff-635ba05f5059"
      },
      "source": [
        "import tensorflow.compat.v1 as tf\n",
        "tf.disable_v2_behavior()\n",
        "\n",
        "X = tf.placeholder(tf.float32,[None, 28]) #input\n",
        "\n",
        "# encoder\n",
        "dense1 = tf.layers.dense(inputs=X, units = 20, activation = tf.nn.sigmoid)\n",
        "dense2 = tf.layers.dense(inputs=dense1, units=14, activation=tf.nn.sigmoid)\n",
        "encoder = tf.layers.dense(inputs=dense2,units=10,activation=tf.nn.sigmoid)\n",
        "\n",
        "# decoder\n",
        "dense4 = tf.layers.dense(inputs=encoder, units=14, activation=tf.nn.sigmoid)\n",
        "dense5 = tf.layers.dense(inputs=dense4, units=20, activation=tf.nn.sigmoid)\n",
        "decoder = tf.layers.dense(inputs=dense5, units=28, activation=tf.nn.sigmoid)\n",
        "\n",
        "# optimizer\n",
        "cost = tf.reduce_sum(tf.square(tf.subtract(decoder,X)))\n",
        "optimizer = tf.train.AdamOptimizer().minimize(cost)"
      ],
      "execution_count": null,
      "outputs": [
        {
          "output_type": "stream",
          "text": [
            "WARNING:tensorflow:From /usr/local/lib/python3.6/dist-packages/tensorflow/python/compat/v2_compat.py:96: disable_resource_variables (from tensorflow.python.ops.variable_scope) is deprecated and will be removed in a future version.\n",
            "Instructions for updating:\n",
            "non-resource variables are not supported in the long term\n"
          ],
          "name": "stdout"
        },
        {
          "output_type": "stream",
          "text": [
            "/usr/local/lib/python3.6/dist-packages/tensorflow/python/keras/legacy_tf_layers/core.py:171: UserWarning: `tf.layers.dense` is deprecated and will be removed in a future version. Please use `tf.keras.layers.Dense` instead.\n",
            "  warnings.warn('`tf.layers.dense` is deprecated and '\n",
            "/usr/local/lib/python3.6/dist-packages/tensorflow/python/keras/engine/base_layer_v1.py:1719: UserWarning: `layer.apply` is deprecated and will be removed in a future version. Please use `layer.__call__` method instead.\n",
            "  warnings.warn('`layer.apply` is deprecated and '\n"
          ],
          "name": "stderr"
        }
      ]
    },
    {
      "cell_type": "code",
      "metadata": {
        "id": "Ru2j1U3NzbpY",
        "colab": {
          "base_uri": "https://localhost:8080/"
        },
        "outputId": "1b0db213-d973-4b8b-98cb-5ce3a6a55f0c"
      },
      "source": [
        "#training\n",
        "def next_batch(data,i,batch):   \n",
        "    return data[i*batch:i*batch+batch]\n",
        "print('training')\n",
        "\n",
        "with tf.Session() as sess:    \n",
        "    sess.run(tf.global_variables_initializer()) #변수초기화해야 연산작업 가능\n",
        "    batch_size=500       \n",
        "    total_train_batch=int(trainX.shape[0]/batch_size) #454\n",
        "    for epoch in range(3):   \n",
        "        total_cost=0      \n",
        "        for i in range(total_train_batch):\n",
        "            batch_xs = next_batch(trainX,i,batch_size)                   \n",
        "            _, cost_val = sess.run([optimizer,cost],feed_dict={X:batch_xs})\n",
        "            total_cost += cost_val    \n",
        "        print('epoch:', epoch + 1, 'cost:', round(total_cost / total_train_batch,2))     \n",
        "    print('train complete!')\n",
        "    print() \n",
        "    print('testing..')\n",
        "\n",
        "#testing      \n",
        "    limit_list=[0.001,0.01,0.05,0.07,0.1,0.5]  \n",
        "\n",
        "    for limit in limit_list:        \n",
        "     fraud_count = 0\n",
        "     normal_count = 0\n",
        "\n",
        "    print('임계값 :', 0.05)\n",
        "\n",
        "    a_list=[]\n",
        "    b_list=[]\n",
        "     \n",
        "    for i in range(len(fraud)):      \n",
        "       a=sess.run(cost,feed_dict={X:fraudX[i].reshape(1,28)})       \n",
        "       if a >= 0.05:       \n",
        "        fraud_count +=1           \n",
        "        a_list.append(fraudX[i])\n",
        "\n",
        "       for i in range(len(testX[0].shape)):       \n",
        "           b=sess.run(cost,feed_dict={X:testX[i].reshape(1,28)})           \n",
        "           if b >= 0.05:           \n",
        "            normal_count +=1            \n",
        "            b_list.append(b)\n",
        "                           \n",
        "    print('fraud :', fraud_count,'/',len(fraud), 'normal :', normal_count,'/',len(testX))"
      ],
      "execution_count": null,
      "outputs": [
        {
          "output_type": "stream",
          "text": [
            "training\n",
            "epoch: 1 cost: 75.08\n",
            "epoch: 2 cost: 24.43\n",
            "epoch: 3 cost: 24.13\n",
            "train complete!\n",
            "\n",
            "testing..\n",
            "임계값 : 0.05\n",
            "fraud : 462 / 492 normal : 0 / 56863\n"
          ],
          "name": "stdout"
        }
      ]
    }
  ]
}